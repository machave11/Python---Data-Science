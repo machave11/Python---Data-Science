{
  "nbformat": 4,
  "nbformat_minor": 0,
  "metadata": {
    "colab": {
      "name": "Numpy",
      "provenance": [],
      "collapsed_sections": [],
      "authorship_tag": "ABX9TyO+3jGBP9zVw7wTMuaRuhNa",
      "include_colab_link": true
    },
    "kernelspec": {
      "name": "python3",
      "display_name": "Python 3"
    },
    "language_info": {
      "name": "python"
    }
  },
  "cells": [
    {
      "cell_type": "markdown",
      "metadata": {
        "id": "view-in-github",
        "colab_type": "text"
      },
      "source": [
        "<a href=\"https://colab.research.google.com/github/machave11/Python---Data-Science/blob/main/Numpy.ipynb\" target=\"_parent\"><img src=\"https://colab.research.google.com/assets/colab-badge.svg\" alt=\"Open In Colab\"/></a>"
      ]
    },
    {
      "cell_type": "code",
      "execution_count": 2,
      "metadata": {
        "id": "4xGJwLPXKrWM"
      },
      "outputs": [],
      "source": [
        "import numpy as np \n",
        "import pandas as pd\n",
        "import matplotlib.pyplot as plt\n",
        "%matplotlib inline\n",
        "from skimage.io import imread "
      ]
    },
    {
      "cell_type": "markdown",
      "source": [
        "# Numpy -  A multidimentional array object"
      ],
      "metadata": {
        "id": "rsiuXRD9LiQZ"
      }
    },
    {
      "cell_type": "code",
      "source": [
        "# Generate some random data\n",
        "data = np.random.randn(2,3)\n",
        "print(data,'\\n')\n",
        "print(data * 10)"
      ],
      "metadata": {
        "colab": {
          "base_uri": "https://localhost:8080/"
        },
        "id": "v3lSZcWCLkxA",
        "outputId": "02199f01-62e9-4653-e0cb-bbb24e0ffc4e"
      },
      "execution_count": 3,
      "outputs": [
        {
          "output_type": "stream",
          "name": "stdout",
          "text": [
            "[[ 0.23742729 -0.52931968  0.50686927]\n",
            " [ 1.50572329 -0.58569508 -0.85955582]] \n",
            "\n",
            "[[ 2.37427294 -5.29319679  5.06869272]\n",
            " [15.05723287 -5.85695085 -8.5955582 ]]\n"
          ]
        }
      ]
    },
    {
      "cell_type": "code",
      "source": [
        "#Every array has a shape, a tuple indicating the size of each dimension,\n",
        "# A dtype, an object describing the data type of the array:\n",
        "print(\"data shape = \", data.shape)\n",
        "print(\"data dtype = \", data.dtype)"
      ],
      "metadata": {
        "colab": {
          "base_uri": "https://localhost:8080/"
        },
        "id": "ECxQ8KOkMAZl",
        "outputId": "e6d963a4-acf9-4a8b-fb49-228406ce821f"
      },
      "execution_count": 4,
      "outputs": [
        {
          "output_type": "stream",
          "name": "stdout",
          "text": [
            "data shape =  (2, 3)\n",
            "data dtype =  float64\n"
          ]
        }
      ]
    },
    {
      "cell_type": "markdown",
      "source": [
        "# Creating ndarrays"
      ],
      "metadata": {
        "id": "Q596kKy-QhvE"
      }
    },
    {
      "cell_type": "code",
      "source": [
        "data1 = [1, 2.5, 3, 7.5, 4]\n",
        "arr1 = np.array(data1)\n",
        "print(arr1)\n",
        "arr1"
      ],
      "metadata": {
        "colab": {
          "base_uri": "https://localhost:8080/"
        },
        "id": "cO_kbQXORDAT",
        "outputId": "0c994447-984c-469e-fee4-967103635a2b"
      },
      "execution_count": 5,
      "outputs": [
        {
          "output_type": "stream",
          "name": "stdout",
          "text": [
            "[1.  2.5 3.  7.5 4. ]\n"
          ]
        },
        {
          "output_type": "execute_result",
          "data": {
            "text/plain": [
              "array([1. , 2.5, 3. , 7.5, 4. ])"
            ]
          },
          "metadata": {},
          "execution_count": 5
        }
      ]
    },
    {
      "cell_type": "markdown",
      "source": [
        "# Nested sequences, like a list of equal-length lists, will be converted into a multidimen‐sional array:\n"
      ],
      "metadata": {
        "id": "mI9mYC7lRnHQ"
      }
    },
    {
      "cell_type": "code",
      "source": [
        "data2 =[[1,2,3,4,5.5], [2.5,1.2,3.2,3,3,1.9]]\n",
        "arr2 = np.array(data2)\n",
        "print(arr2)\n",
        "print(\"diamension of arr2=\",arr2.ndim)\n",
        "print(\"shape of arr2=\",arr2.shape)"
      ],
      "metadata": {
        "colab": {
          "base_uri": "https://localhost:8080/"
        },
        "id": "-ENrUJwORdAp",
        "outputId": "2698e36a-6e95-43c4-f903-5126979d248f"
      },
      "execution_count": 6,
      "outputs": [
        {
          "output_type": "stream",
          "name": "stdout",
          "text": [
            "[list([1, 2, 3, 4, 5.5]) list([2.5, 1.2, 3.2, 3, 3, 1.9])]\n",
            "diamension of arr2= 1\n",
            "shape of arr2= (2,)\n"
          ]
        },
        {
          "output_type": "stream",
          "name": "stderr",
          "text": [
            "/usr/local/lib/python3.7/dist-packages/ipykernel_launcher.py:2: VisibleDeprecationWarning: Creating an ndarray from ragged nested sequences (which is a list-or-tuple of lists-or-tuples-or ndarrays with different lengths or shapes) is deprecated. If you meant to do this, you must specify 'dtype=object' when creating the ndarray.\n",
            "  \n"
          ]
        }
      ]
    },
    {
      "cell_type": "code",
      "source": [
        "# Zero to identity matrices\n",
        "print(np.zeros(10),'\\n')\n",
        "print(np.zeros((3, 6)),'\\n')\n",
        "print(np.eye(3))"
      ],
      "metadata": {
        "colab": {
          "base_uri": "https://localhost:8080/"
        },
        "id": "pQP_c4jKSDxl",
        "outputId": "b42fed3d-5d22-4bd3-ed8f-774af960779d"
      },
      "execution_count": 7,
      "outputs": [
        {
          "output_type": "stream",
          "name": "stdout",
          "text": [
            "[0. 0. 0. 0. 0. 0. 0. 0. 0. 0.] \n",
            "\n",
            "[[0. 0. 0. 0. 0. 0.]\n",
            " [0. 0. 0. 0. 0. 0.]\n",
            " [0. 0. 0. 0. 0. 0.]] \n",
            "\n",
            "[[1. 0. 0.]\n",
            " [0. 1. 0.]\n",
            " [0. 0. 1.]]\n"
          ]
        }
      ]
    },
    {
      "cell_type": "code",
      "source": [
        "# Arange is array valued built in python range function \n",
        "print(np.arange(10))"
      ],
      "metadata": {
        "colab": {
          "base_uri": "https://localhost:8080/"
        },
        "id": "sJpDNkk8Td08",
        "outputId": "e20a898d-3759-4a87-8fec-4f7fc01f7a8a"
      },
      "execution_count": 8,
      "outputs": [
        {
          "output_type": "stream",
          "name": "stdout",
          "text": [
            "[0 1 2 3 4 5 6 7 8 9]\n"
          ]
        }
      ]
    },
    {
      "cell_type": "markdown",
      "source": [
        "#Data Types for ndarrays"
      ],
      "metadata": {
        "id": "vOUv0Eq6UZwT"
      }
    },
    {
      "cell_type": "code",
      "source": [
        "arr1 = np.array([1,2,3,4], dtype=np.float64)\n",
        "arr2 = np.array([1,3,2,5], dtype=np.int32)\n",
        "print(\"data type of arr1=\", arr1.dtype)\n",
        "print(\"data type of arr2=\", arr2.dtype)"
      ],
      "metadata": {
        "colab": {
          "base_uri": "https://localhost:8080/"
        },
        "id": "hcal5VoMUXQg",
        "outputId": "cf42797c-00e5-42ef-a62e-8d201acaec88"
      },
      "execution_count": 9,
      "outputs": [
        {
          "output_type": "stream",
          "name": "stdout",
          "text": [
            "data type of arr1= float64\n",
            "data type of arr2= int32\n"
          ]
        }
      ]
    },
    {
      "cell_type": "code",
      "source": [
        "#You can explicitly convert or cast an array from one dtype to another using ndarray’s\n",
        "#astype method:\n",
        "arr = np.array([1,3,4,5])\n",
        "print(arr.dtype,'\\n')\n",
        "\n",
        "float_arr = arr.astype(np.float64)\n",
        "print(float_arr.dtype)"
      ],
      "metadata": {
        "colab": {
          "base_uri": "https://localhost:8080/"
        },
        "id": "CH3a7KzSVdf0",
        "outputId": "01c225ba-e100-46b5-8322-bb7d479dbd30"
      },
      "execution_count": 10,
      "outputs": [
        {
          "output_type": "stream",
          "name": "stdout",
          "text": [
            "int64 \n",
            "\n",
            "float64\n"
          ]
        }
      ]
    },
    {
      "cell_type": "code",
      "source": [
        "#If I cast some floating-point numbers to be of integer dtype, the decimal part will be truncated:\n",
        "arr = np.array([3.7, -1.2, -2.6, 0.5, 12.9, 10.1])\n",
        "print(arr.astype(np.int32))"
      ],
      "metadata": {
        "colab": {
          "base_uri": "https://localhost:8080/"
        },
        "id": "82y6v9cTWspE",
        "outputId": "a8918684-8acb-4e26-ed43-b25446a55519"
      },
      "execution_count": 11,
      "outputs": [
        {
          "output_type": "stream",
          "name": "stdout",
          "text": [
            "[ 3 -1 -2  0 12 10]\n"
          ]
        }
      ]
    },
    {
      "cell_type": "code",
      "source": [
        "numeric_string = np.array(['1.23', '4.56', '5.65'])\n",
        "print(numeric_string)\n",
        "print(numeric_string.astype(np.float64))"
      ],
      "metadata": {
        "colab": {
          "base_uri": "https://localhost:8080/"
        },
        "id": "xIU8n1VkX3eV",
        "outputId": "e5ffe74b-10b9-43ad-af51-f2e7143f3085"
      },
      "execution_count": 12,
      "outputs": [
        {
          "output_type": "stream",
          "name": "stdout",
          "text": [
            "['1.23' '4.56' '5.65']\n",
            "[1.23 4.56 5.65]\n"
          ]
        }
      ]
    },
    {
      "cell_type": "markdown",
      "source": [
        "# Arithmetic with NumPy Arrays"
      ],
      "metadata": {
        "id": "13qMUA8AZM9E"
      }
    },
    {
      "cell_type": "code",
      "source": [
        "arr = np.array([[1., 2., 3.], [4., 5., 6.]])\n",
        "print(arr)\n",
        "print('\\n',arr.dtype)"
      ],
      "metadata": {
        "colab": {
          "base_uri": "https://localhost:8080/"
        },
        "id": "SrCrXc-7Y8d1",
        "outputId": "934d1870-6d4c-4c3d-ad32-442b1d39c9f5"
      },
      "execution_count": 13,
      "outputs": [
        {
          "output_type": "stream",
          "name": "stdout",
          "text": [
            "[[1. 2. 3.]\n",
            " [4. 5. 6.]]\n",
            "\n",
            " float64\n"
          ]
        }
      ]
    },
    {
      "cell_type": "markdown",
      "source": [
        "Arrays are important because they enable you to express batch operations on data\n",
        "without writing any for loops. NumPy users call this vectorization. Any arithmetic\n",
        "operations between equal-size arrays applies the operation ELEMENT-WISE:"
      ],
      "metadata": {
        "id": "HBMEzBf6ZyhS"
      }
    },
    {
      "cell_type": "code",
      "source": [
        "print(arr * arr, '\\n' )\n",
        "print(arr + arr, '\\n')\n",
        "print(1 / arr)"
      ],
      "metadata": {
        "colab": {
          "base_uri": "https://localhost:8080/"
        },
        "id": "LhoEmG50ZcWr",
        "outputId": "d6aaa864-d537-41a9-c0a7-615f54a6d043"
      },
      "execution_count": 14,
      "outputs": [
        {
          "output_type": "stream",
          "name": "stdout",
          "text": [
            "[[ 1.  4.  9.]\n",
            " [16. 25. 36.]] \n",
            "\n",
            "[[ 2.  4.  6.]\n",
            " [ 8. 10. 12.]] \n",
            "\n",
            "[[1.         0.5        0.33333333]\n",
            " [0.25       0.2        0.16666667]]\n"
          ]
        }
      ]
    },
    {
      "cell_type": "code",
      "source": [
        "#Comparisons between arrays of the same size yield boolean arrays:\n",
        "arr2 = np.array([[0., 4., 1.], [7., 2., 12.]])\n",
        "arr2>arr"
      ],
      "metadata": {
        "colab": {
          "base_uri": "https://localhost:8080/"
        },
        "id": "o3G4L4D1aHZw",
        "outputId": "168b711b-39e4-4334-d759-16ec3d0929db"
      },
      "execution_count": 15,
      "outputs": [
        {
          "output_type": "execute_result",
          "data": {
            "text/plain": [
              "array([[False,  True, False],\n",
              "       [ True, False,  True]])"
            ]
          },
          "metadata": {},
          "execution_count": 15
        }
      ]
    },
    {
      "cell_type": "markdown",
      "source": [
        "# Basic Indexing and Slicing"
      ],
      "metadata": {
        "id": "_0I93k87a-gt"
      }
    },
    {
      "cell_type": "code",
      "source": [
        "arr = np.arange(10)\n",
        "print(arr)\n",
        "print(arr[5])\n",
        "print(arr[5:8])\n",
        "arr[5:8] = 12\n",
        "print(arr)\n"
      ],
      "metadata": {
        "colab": {
          "base_uri": "https://localhost:8080/"
        },
        "id": "0CWzcifVa1X3",
        "outputId": "1212d63c-55d3-4cc0-a079-78c6666e893a"
      },
      "execution_count": 16,
      "outputs": [
        {
          "output_type": "stream",
          "name": "stdout",
          "text": [
            "[0 1 2 3 4 5 6 7 8 9]\n",
            "5\n",
            "[5 6 7]\n",
            "[ 0  1  2  3  4 12 12 12  8  9]\n"
          ]
        }
      ]
    },
    {
      "cell_type": "code",
      "source": [
        "arr2d = np.array([[1, 2, 3], [4, 5, 6], [7, 8, 9]])\n",
        "print(arr2d[2])\n",
        "print(arr2d[0][2])\n",
        "print(arr2d[0,2])"
      ],
      "metadata": {
        "colab": {
          "base_uri": "https://localhost:8080/"
        },
        "id": "UWlIiVKDbaEu",
        "outputId": "ae7ef2ff-11d5-4207-f39c-46c3eef23507"
      },
      "execution_count": 17,
      "outputs": [
        {
          "output_type": "stream",
          "name": "stdout",
          "text": [
            "[7 8 9]\n",
            "3\n",
            "3\n"
          ]
        }
      ]
    },
    {
      "cell_type": "markdown",
      "source": [
        "#Indexing with slices"
      ],
      "metadata": {
        "id": "p57S4FJ8dYzH"
      }
    },
    {
      "cell_type": "code",
      "source": [
        "print(arr2d)\n",
        "print()\n",
        "print(arr2d[:2])"
      ],
      "metadata": {
        "colab": {
          "base_uri": "https://localhost:8080/"
        },
        "id": "kHYM623-c5Jc",
        "outputId": "14307691-26b8-436f-ed3e-5516b1abeaaf"
      },
      "execution_count": 18,
      "outputs": [
        {
          "output_type": "stream",
          "name": "stdout",
          "text": [
            "[[1 2 3]\n",
            " [4 5 6]\n",
            " [7 8 9]]\n",
            "\n",
            "[[1 2 3]\n",
            " [4 5 6]]\n"
          ]
        }
      ]
    },
    {
      "cell_type": "markdown",
      "source": [
        "#Transposing Arrays and Swapping Axes"
      ],
      "metadata": {
        "id": "4Sct-REdDo70"
      }
    },
    {
      "cell_type": "code",
      "source": [
        "arr = np.arange(15).reshape((3, 5))\n",
        "arr"
      ],
      "metadata": {
        "id": "1hnxAKMyde2F",
        "colab": {
          "base_uri": "https://localhost:8080/"
        },
        "outputId": "2d3b501a-ba3b-4abd-8b0c-839e78bed763"
      },
      "execution_count": 19,
      "outputs": [
        {
          "output_type": "execute_result",
          "data": {
            "text/plain": [
              "array([[ 0,  1,  2,  3,  4],\n",
              "       [ 5,  6,  7,  8,  9],\n",
              "       [10, 11, 12, 13, 14]])"
            ]
          },
          "metadata": {},
          "execution_count": 19
        }
      ]
    },
    {
      "cell_type": "code",
      "source": [
        "arr.T"
      ],
      "metadata": {
        "colab": {
          "base_uri": "https://localhost:8080/"
        },
        "id": "KtjHKButD3Kv",
        "outputId": "259a508c-ab81-4d64-daa1-8d3e30d83354"
      },
      "execution_count": 20,
      "outputs": [
        {
          "output_type": "execute_result",
          "data": {
            "text/plain": [
              "array([[ 0,  5, 10],\n",
              "       [ 1,  6, 11],\n",
              "       [ 2,  7, 12],\n",
              "       [ 3,  8, 13],\n",
              "       [ 4,  9, 14]])"
            ]
          },
          "metadata": {},
          "execution_count": 20
        }
      ]
    },
    {
      "cell_type": "code",
      "source": [
        "#For higher dimensional arrays, transpose will accept a tuple of axis numbers to per‐\n",
        "#mute the axes (for extra mind bending):\n",
        "arr = np.arange(16).reshape((2, 2, 4))\n",
        "arr"
      ],
      "metadata": {
        "colab": {
          "base_uri": "https://localhost:8080/"
        },
        "id": "2tZWKj_qEozQ",
        "outputId": "3e65915b-f6b8-40cf-cc4a-76e5f7c9b9b7"
      },
      "execution_count": 21,
      "outputs": [
        {
          "output_type": "execute_result",
          "data": {
            "text/plain": [
              "array([[[ 0,  1,  2,  3],\n",
              "        [ 4,  5,  6,  7]],\n",
              "\n",
              "       [[ 8,  9, 10, 11],\n",
              "        [12, 13, 14, 15]]])"
            ]
          },
          "metadata": {},
          "execution_count": 21
        }
      ]
    },
    {
      "cell_type": "code",
      "source": [
        "arr.transpose((1, 0, 2))"
      ],
      "metadata": {
        "id": "530xvPfhFWGz",
        "outputId": "984313a3-a0f3-4034-9806-430df9fd2d1d",
        "colab": {
          "base_uri": "https://localhost:8080/"
        }
      },
      "execution_count": 22,
      "outputs": [
        {
          "output_type": "execute_result",
          "data": {
            "text/plain": [
              "array([[[ 0,  1,  2,  3],\n",
              "        [ 8,  9, 10, 11]],\n",
              "\n",
              "       [[ 4,  5,  6,  7],\n",
              "        [12, 13, 14, 15]]])"
            ]
          },
          "metadata": {},
          "execution_count": 22
        }
      ]
    },
    {
      "cell_type": "markdown",
      "source": [
        "#Universal Functions: Fast Element-Wise Array Functions"
      ],
      "metadata": {
        "id": "qZ5xkNwxVLlX"
      }
    },
    {
      "cell_type": "markdown",
      "source": [
        "A universal function, or ufunc, is a function that performs element-wise operations on data in ndarrays. You can think of them as fast vectorized wrappers for simple functions that take one or more scalar values and produce one or more scalar results."
      ],
      "metadata": {
        "id": "8qfKIvXqVVmF"
      }
    },
    {
      "cell_type": "markdown",
      "source": [
        "Many ufuncs are simple element-wise transformations, like sqrt or exp:"
      ],
      "metadata": {
        "id": "BnCKkdLMVjtO"
      }
    },
    {
      "cell_type": "code",
      "source": [
        "arr = np.arange(10)\n",
        "print(np.sqrt(arr))\n",
        "print(arr)\n",
        "print(np.exp(arr))"
      ],
      "metadata": {
        "colab": {
          "base_uri": "https://localhost:8080/"
        },
        "id": "dn_ycOhfVOEL",
        "outputId": "2afbc19f-3943-4e09-c936-6e080f2c79f6"
      },
      "execution_count": 26,
      "outputs": [
        {
          "output_type": "stream",
          "name": "stdout",
          "text": [
            "[0.         1.         1.41421356 1.73205081 2.         2.23606798\n",
            " 2.44948974 2.64575131 2.82842712 3.        ]\n",
            "[0 1 2 3 4 5 6 7 8 9]\n",
            "[1.00000000e+00 2.71828183e+00 7.38905610e+00 2.00855369e+01\n",
            " 5.45981500e+01 1.48413159e+02 4.03428793e+02 1.09663316e+03\n",
            " 2.98095799e+03 8.10308393e+03]\n"
          ]
        }
      ]
    },
    {
      "cell_type": "markdown",
      "source": [
        "These are referred to as unary ufuncs. Others, such as add or maximum, take two arrays\n",
        "(thus, binary ufuncs) and return a single array as the result:"
      ],
      "metadata": {
        "id": "27QrEhM0WJyX"
      }
    },
    {
      "cell_type": "code",
      "source": [
        "x = np.random.randn(10)\n",
        "print(x)\n",
        "y = np.random.randn(10)\n",
        "print()\n",
        "print(y)"
      ],
      "metadata": {
        "colab": {
          "base_uri": "https://localhost:8080/"
        },
        "id": "qILoNXkzWAU1",
        "outputId": "7b6485c9-55c5-43f2-b478-889606eeeb20"
      },
      "execution_count": 31,
      "outputs": [
        {
          "output_type": "stream",
          "name": "stdout",
          "text": [
            "[ 0.89505663  1.70766924 -1.77607996 -0.4789596   0.68579852 -1.15229331\n",
            " -1.28117146 -1.17213992 -0.9349124  -0.21458391]\n",
            "\n",
            "[ 1.11916836 -0.96887216  0.79238701  0.23692975 -0.89300529 -1.1606944\n",
            "  0.57142673 -1.05891984 -1.01106954  0.20875752]\n"
          ]
        }
      ]
    },
    {
      "cell_type": "markdown",
      "source": [
        "Here, numpy.maximum computed the element-wise maximum of the elements in x and y."
      ],
      "metadata": {
        "id": "agZClx_qWt6i"
      }
    },
    {
      "cell_type": "markdown",
      "source": [
        "# Array-Oriented Programming with Arrays"
      ],
      "metadata": {
        "id": "gKyfSj-jW0v0"
      }
    },
    {
      "cell_type": "markdown",
      "source": [
        "Using NumPy arrays enables you to express many kinds of data processing tasks as concise array expressions that might otherwise require writing loops. This practice of replacing explicit loops with array expressions is commonly referred to as vectoriza‐ tion. In general, vectorized array operations will often be one or two (or more) orders of magnitude faster than their pure Python equivalents, with the biggest impact in any kind of numerical computations"
      ],
      "metadata": {
        "id": "0abNblfmXH7R"
      }
    },
    {
      "cell_type": "markdown",
      "source": [
        "# Expressing Conditional Logic as Array Operations"
      ],
      "metadata": {
        "id": "xykHT_48XT0a"
      }
    },
    {
      "cell_type": "code",
      "source": [
        "xarr = np.array([1.1,1.2,1.3,1.4,1.5])\n",
        "yarr = np.array([2.5,2.6,2.7,2.8,2.9])\n",
        "cond = np.array([True, False, True, True, False])"
      ],
      "metadata": {
        "id": "Keyuom2VWa6V"
      },
      "execution_count": 32,
      "outputs": []
    },
    {
      "cell_type": "markdown",
      "source": [
        "'''Suppose we wanted to take a value from xarr whenever the corresponding value in\n",
        "cond is True, and otherwise take the value from yarr. A list comprehension doing\n",
        "this might look like:''"
      ],
      "metadata": {
        "id": "a7waZ5mgYJ3y"
      }
    },
    {
      "cell_type": "code",
      "source": [
        "result = [(x if c else y)\n",
        "          for x, y, c in zip(xarr, yarr, cond)]\n",
        "result"
      ],
      "metadata": {
        "colab": {
          "base_uri": "https://localhost:8080/"
        },
        "id": "LAfaMmcOYQHS",
        "outputId": "c233001c-9ab2-4172-9d43-27a98f5554e1"
      },
      "execution_count": 33,
      "outputs": [
        {
          "output_type": "execute_result",
          "data": {
            "text/plain": [
              "[1.1, 2.6, 1.3, 1.4, 2.9]"
            ]
          },
          "metadata": {},
          "execution_count": 33
        }
      ]
    },
    {
      "cell_type": "markdown",
      "source": [
        "This has multiple problems. First, it will not be very fast for large arrays (because all the work is being done in interpreted Python code). Second, it will not work with multidimensional arrays. With np.where you can write this very concisely:"
      ],
      "metadata": {
        "id": "hHqB59qeYfPw"
      }
    },
    {
      "cell_type": "code",
      "source": [
        "result = np.where(cond, xarr, yarr)\n",
        "result"
      ],
      "metadata": {
        "colab": {
          "base_uri": "https://localhost:8080/"
        },
        "id": "sE4J7u-EYf2i",
        "outputId": "9611a528-4c06-432e-cdfd-f379407d236c"
      },
      "execution_count": 34,
      "outputs": [
        {
          "output_type": "execute_result",
          "data": {
            "text/plain": [
              "array([1.1, 2.6, 1.3, 1.4, 2.9])"
            ]
          },
          "metadata": {},
          "execution_count": 34
        }
      ]
    },
    {
      "cell_type": "markdown",
      "source": [
        "The second and third arguments to np.where don’t need to be arrays; one or both of them can be scalars. A typical use of where in data analysis is to produce a new array of values based on another array. Suppose you had a matrix of randomly generated data and you wanted to replace all positive values with 2 and all negative values with –2. This is very easy to do with np.where:"
      ],
      "metadata": {
        "id": "1hN6BQR9Y2qq"
      }
    },
    {
      "cell_type": "code",
      "source": [
        "arr = np.random.randn(4,4)\n",
        "print(arr)\n",
        "print()\n",
        "print(arr>0)\n",
        "print()\n",
        "print(np.where(arr > 0, 2, -2))"
      ],
      "metadata": {
        "colab": {
          "base_uri": "https://localhost:8080/"
        },
        "id": "h-eg2Ui4Yqi4",
        "outputId": "03f20c70-dfb9-4f6f-ac20-4d95521d7a38"
      },
      "execution_count": 39,
      "outputs": [
        {
          "output_type": "stream",
          "name": "stdout",
          "text": [
            "[[-1.80909063  0.25080459 -0.19943397 -0.26299628]\n",
            " [ 1.2372832  -1.12086635  0.45183309 -0.54264353]\n",
            " [ 1.66280753 -1.87749533 -2.63102169  1.05572336]\n",
            " [-2.09762885  0.35086834  0.91668062  0.48385779]]\n",
            "\n",
            "[[False  True False False]\n",
            " [ True False  True False]\n",
            " [ True False False  True]\n",
            " [False  True  True  True]]\n",
            "\n",
            "[[-2  2 -2 -2]\n",
            " [ 2 -2  2 -2]\n",
            " [ 2 -2 -2  2]\n",
            " [-2  2  2  2]]\n"
          ]
        }
      ]
    },
    {
      "cell_type": "markdown",
      "source": [
        "# Mathematical and Statistical Methods"
      ],
      "metadata": {
        "id": "fBewjm4zZmGU"
      }
    },
    {
      "cell_type": "markdown",
      "source": [
        "You can use aggregations (often called reductions) like sum, mean, and std (standard deviation) either by calling the array instance method or using the top-level NumPy function"
      ],
      "metadata": {
        "id": "alUVgwt6Z2nr"
      }
    },
    {
      "cell_type": "code",
      "source": [
        "arr = np.random.randn(5, 4)\n",
        "print(arr)"
      ],
      "metadata": {
        "colab": {
          "base_uri": "https://localhost:8080/"
        },
        "id": "CvXa9Ik8Zxyy",
        "outputId": "d15340c0-f2ee-4a9e-b0f1-f0fd2b579403"
      },
      "execution_count": 40,
      "outputs": [
        {
          "output_type": "stream",
          "name": "stdout",
          "text": [
            "[[ 1.25040319  0.85199599  0.54991495  0.72825115]\n",
            " [ 1.41105493  0.40559748 -0.02199548 -1.62269658]\n",
            " [-0.63356295 -0.57489727  1.18343599 -1.04675327]\n",
            " [-1.05190334 -0.43675853  0.79296819  0.13268241]\n",
            " [-2.1828166   0.5601189  -0.14147502  0.18565952]]\n"
          ]
        }
      ]
    },
    {
      "cell_type": "code",
      "source": [
        "print(\"mean:\", arr.mean())\n",
        "print(\"mean:\", np.mean(arr))\n",
        "print(\"mean:\", arr.sum())\n",
        "print(\"mean:\", np.sum(arr))"
      ],
      "metadata": {
        "colab": {
          "base_uri": "https://localhost:8080/"
        },
        "id": "ogqA16RraYNG",
        "outputId": "16a921d1-1daa-4605-e561-bc8c56380f46"
      },
      "execution_count": 46,
      "outputs": [
        {
          "output_type": "stream",
          "name": "stdout",
          "text": [
            "mean: 0.016961183187938093\n",
            "mean: 0.016961183187938093\n",
            "mean: 0.3392236637587619\n",
            "mean: 0.3392236637587619\n"
          ]
        }
      ]
    },
    {
      "cell_type": "code",
      "source": [
        "print(arr.mean(axis=1))\n",
        "print(arr.sum(axis=0))"
      ],
      "metadata": {
        "colab": {
          "base_uri": "https://localhost:8080/"
        },
        "id": "4yX4LwovbcEJ",
        "outputId": "bacb1500-17ee-4d93-c23c-ccb4e040f670"
      },
      "execution_count": 48,
      "outputs": [
        {
          "output_type": "stream",
          "name": "stdout",
          "text": [
            "[ 0.84514132  0.04299009 -0.26794438 -0.14075282 -0.3946283 ]\n",
            "[-1.20682477  0.80605657  2.36284863 -1.62285677]\n"
          ]
        }
      ]
    },
    {
      "cell_type": "markdown",
      "source": [
        "Here, arr.mean(1) means “compute mean across the columns” where arr.sum(0) means “compute sum down the rows.”"
      ],
      "metadata": {
        "id": "E0XmF9kYbyY5"
      }
    },
    {
      "cell_type": "markdown",
      "source": [
        "# Linear Algebra"
      ],
      "metadata": {
        "id": "T3OhYQ1_b9DJ"
      }
    },
    {
      "cell_type": "markdown",
      "source": [
        "Linear algebra, like matrix multiplication, decompositions, determinants, and other square matrix math, is an important part of any array library. Unlike some languages like MATLAB, multiplying two two-dimensional arrays with * is an element-wise product instead of a matrix dot product. Thus, there is a function dot, both an array method and a function in the numpy namespace, for matrix multiplication:"
      ],
      "metadata": {
        "id": "YaWxGgjZcfQX"
      }
    },
    {
      "cell_type": "markdown",
      "source": [
        "# Numpy offers a separate module for linear algebra named linalg"
      ],
      "metadata": {
        "id": "OwpiPCYdcgh2"
      }
    },
    {
      "cell_type": "code",
      "source": [
        "mat1 = np.arange(4).reshape(2,2)\n",
        "mat2 = (np.arange(4)*2).reshape(2,2)\n",
        "mat3 = (np.arange(4)*3).reshape(2,2)\n",
        "print(np.linalg.multi_dot( [mat1, mat2, mat3] ))"
      ],
      "metadata": {
        "colab": {
          "base_uri": "https://localhost:8080/"
        },
        "id": "Z5WW4Ar6b_dk",
        "outputId": "81dd7c51-bdec-4d7d-93a7-f55332698b34"
      },
      "execution_count": 52,
      "outputs": [
        {
          "output_type": "stream",
          "name": "stdout",
          "text": [
            "[[ 36  66]\n",
            " [132 234]]\n"
          ]
        }
      ]
    },
    {
      "cell_type": "markdown",
      "source": [
        "# Performing multiple dot product in one go \n"
      ],
      "metadata": {
        "id": "5rKWh4v4dea6"
      }
    },
    {
      "cell_type": "markdown",
      "source": [
        "As we see from above, calculating multiple dot product can be done just by passing the matrices as list into multi_dot function. This depicts the ease of use of linalg module"
      ],
      "metadata": {
        "id": "WzJDaHfVeIYv"
      }
    },
    {
      "cell_type": "markdown",
      "source": [
        "# 3X + Y = 9\n",
        "# X + 2Y = 8"
      ],
      "metadata": {
        "id": "mJ5pBL--fNeU"
      }
    },
    {
      "cell_type": "code",
      "source": [
        "a = np.array([[3, 1],[1, 2]])\n",
        "b = np.array([9, 8])\n",
        "''' Checking if system of equation has unique solution '''\n",
        "print(np.linalg.det(a)) \n",
        "# 5.0\n",
        "''' Since det = 5 which is non-zero. Hence, we have unique solutions\n",
        " Finding unique solution '''\n",
        "print(np.linalg.solve(a, b))\n",
        "# [ 2.  3.]\n",
        "''' Calculating Inverse: Since, determinant is non-zero \n",
        " hence, matrix is invertible '''\n",
        "print(np.linalg.inv(a))\n",
        "# [[ 0.4 -0.2]\n",
        "#  [-0.2  0.6]]\n",
        "''' Calculating Rank of the matrix '''\n",
        "print(np.linalg.matrix_rank(a))\n",
        "# 2 "
      ],
      "metadata": {
        "colab": {
          "base_uri": "https://localhost:8080/"
        },
        "id": "1nbyiHLEfE0U",
        "outputId": "97ce0501-d4fd-4fa9-e1af-c4566c9aca52"
      },
      "execution_count": 56,
      "outputs": [
        {
          "output_type": "stream",
          "name": "stdout",
          "text": [
            "5.000000000000001\n",
            "[2. 3.]\n",
            "[[ 0.4 -0.2]\n",
            " [-0.2  0.6]]\n",
            "2\n"
          ]
        }
      ]
    }
  ]
}