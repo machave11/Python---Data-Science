{
  "nbformat": 4,
  "nbformat_minor": 0,
  "metadata": {
    "colab": {
      "name": "Numpy",
      "provenance": [],
      "collapsed_sections": [],
      "authorship_tag": "ABX9TyN8oMAuAqqodA4KJjR4va+5",
      "include_colab_link": true
    },
    "kernelspec": {
      "name": "python3",
      "display_name": "Python 3"
    },
    "language_info": {
      "name": "python"
    }
  },
  "cells": [
    {
      "cell_type": "markdown",
      "metadata": {
        "id": "view-in-github",
        "colab_type": "text"
      },
      "source": [
        "<a href=\"https://colab.research.google.com/github/machave11/Python---Data-Science/blob/main/Numpy.ipynb\" target=\"_parent\"><img src=\"https://colab.research.google.com/assets/colab-badge.svg\" alt=\"Open In Colab\"/></a>"
      ]
    },
    {
      "cell_type": "code",
      "execution_count": 6,
      "metadata": {
        "id": "4xGJwLPXKrWM"
      },
      "outputs": [],
      "source": [
        "import numpy as np \n",
        "import pandas as pd\n",
        "import matplotlib.pyplot as plt\n",
        "%matplotlib inline\n",
        "from skimage.io import imread "
      ]
    },
    {
      "cell_type": "markdown",
      "source": [
        "# Numpy -  A multidimentional array object"
      ],
      "metadata": {
        "id": "rsiuXRD9LiQZ"
      }
    },
    {
      "cell_type": "code",
      "source": [
        "# Generate some random data\n",
        "data = np.random.randn(2,3)\n",
        "print(data,'\\n')\n",
        "print(data * 10)"
      ],
      "metadata": {
        "colab": {
          "base_uri": "https://localhost:8080/"
        },
        "id": "v3lSZcWCLkxA",
        "outputId": "b53ccded-fdf4-406d-eee3-e2f65b317ccf"
      },
      "execution_count": 7,
      "outputs": [
        {
          "output_type": "stream",
          "name": "stdout",
          "text": [
            "[[ 0.12640835  0.53295917 -1.04803101]\n",
            " [ 1.29565591  0.21195002  0.40591724]] \n",
            "\n",
            "[[  1.26408346   5.32959173 -10.48031007]\n",
            " [ 12.95655911   2.11950016   4.05917244]]\n"
          ]
        }
      ]
    },
    {
      "cell_type": "code",
      "source": [
        "#Every array has a shape, a tuple indicating the size of each dimension,\n",
        "# A dtype, an object describing the data type of the array:\n",
        "print(\"data shape = \", data.shape)\n",
        "print(\"data dtype = \", data.dtype)"
      ],
      "metadata": {
        "colab": {
          "base_uri": "https://localhost:8080/"
        },
        "id": "ECxQ8KOkMAZl",
        "outputId": "811107f9-7be7-4b95-cc0f-6336664e203d"
      },
      "execution_count": 8,
      "outputs": [
        {
          "output_type": "stream",
          "name": "stdout",
          "text": [
            "data shape =  (2, 3)\n",
            "data dtype =  float64\n"
          ]
        }
      ]
    },
    {
      "cell_type": "markdown",
      "source": [
        "# Creating ndarrays"
      ],
      "metadata": {
        "id": "Q596kKy-QhvE"
      }
    },
    {
      "cell_type": "code",
      "source": [
        "data1 = [1, 2.5, 3, 7.5, 4]\n",
        "arr1 = np.array(data1)\n",
        "print(arr1)\n",
        "arr1"
      ],
      "metadata": {
        "colab": {
          "base_uri": "https://localhost:8080/"
        },
        "id": "cO_kbQXORDAT",
        "outputId": "1fe7e180-6b7f-4979-9200-a652b0b5655c"
      },
      "execution_count": 9,
      "outputs": [
        {
          "output_type": "stream",
          "name": "stdout",
          "text": [
            "[1.  2.5 3.  7.5 4. ]\n"
          ]
        },
        {
          "output_type": "execute_result",
          "data": {
            "text/plain": [
              "array([1. , 2.5, 3. , 7.5, 4. ])"
            ]
          },
          "metadata": {},
          "execution_count": 9
        }
      ]
    },
    {
      "cell_type": "markdown",
      "source": [
        "# Nested sequences, like a list of equal-length lists, will be converted into a multidimen‐sional array:\n"
      ],
      "metadata": {
        "id": "mI9mYC7lRnHQ"
      }
    },
    {
      "cell_type": "code",
      "source": [
        "data2 =[[1,2,3,4,5.5], [2.5,1.2,3.2,3,3,1.9]]\n",
        "arr2 = np.array(data2)\n",
        "print(arr2)\n",
        "print(\"diamension of arr2=\",arr2.ndim)\n",
        "print(\"shape of arr2=\",arr2.shape)"
      ],
      "metadata": {
        "colab": {
          "base_uri": "https://localhost:8080/"
        },
        "id": "-ENrUJwORdAp",
        "outputId": "a35c46ef-270d-4d89-907e-72eb9e552e4d"
      },
      "execution_count": 10,
      "outputs": [
        {
          "output_type": "stream",
          "name": "stdout",
          "text": [
            "[list([1, 2, 3, 4, 5.5]) list([2.5, 1.2, 3.2, 3, 3, 1.9])]\n",
            "diamension of arr2= 1\n",
            "shape of arr2= (2,)\n"
          ]
        },
        {
          "output_type": "stream",
          "name": "stderr",
          "text": [
            "/usr/local/lib/python3.7/dist-packages/ipykernel_launcher.py:2: VisibleDeprecationWarning: Creating an ndarray from ragged nested sequences (which is a list-or-tuple of lists-or-tuples-or ndarrays with different lengths or shapes) is deprecated. If you meant to do this, you must specify 'dtype=object' when creating the ndarray.\n",
            "  \n"
          ]
        }
      ]
    },
    {
      "cell_type": "code",
      "source": [
        "# Zero to identity matrices\n",
        "print(np.zeros(10),'\\n')\n",
        "print(np.zeros((3, 6)),'\\n')\n",
        "print(np.eye(3))"
      ],
      "metadata": {
        "colab": {
          "base_uri": "https://localhost:8080/"
        },
        "id": "pQP_c4jKSDxl",
        "outputId": "a83c17d4-9086-4c7c-9d9c-7b34e34ab3a8"
      },
      "execution_count": 11,
      "outputs": [
        {
          "output_type": "stream",
          "name": "stdout",
          "text": [
            "[0. 0. 0. 0. 0. 0. 0. 0. 0. 0.] \n",
            "\n",
            "[[0. 0. 0. 0. 0. 0.]\n",
            " [0. 0. 0. 0. 0. 0.]\n",
            " [0. 0. 0. 0. 0. 0.]] \n",
            "\n",
            "[[1. 0. 0.]\n",
            " [0. 1. 0.]\n",
            " [0. 0. 1.]]\n"
          ]
        }
      ]
    },
    {
      "cell_type": "code",
      "source": [
        "# Arange is array valued built in python range function \n",
        "print(np.arange(10))"
      ],
      "metadata": {
        "colab": {
          "base_uri": "https://localhost:8080/"
        },
        "id": "sJpDNkk8Td08",
        "outputId": "7b26f7a0-6b9d-4b74-e841-edef4f9fb6ef"
      },
      "execution_count": 12,
      "outputs": [
        {
          "output_type": "stream",
          "name": "stdout",
          "text": [
            "[0 1 2 3 4 5 6 7 8 9]\n"
          ]
        }
      ]
    },
    {
      "cell_type": "markdown",
      "source": [
        "#Data Types for ndarrays"
      ],
      "metadata": {
        "id": "vOUv0Eq6UZwT"
      }
    },
    {
      "cell_type": "code",
      "source": [
        "arr1 = np.array([1,2,3,4], dtype=np.float64)\n",
        "arr2 = np.array([1,3,2,5], dtype=np.int32)\n",
        "print(\"data type of arr1=\", arr1.dtype)\n",
        "print(\"data type of arr2=\", arr2.dtype)"
      ],
      "metadata": {
        "colab": {
          "base_uri": "https://localhost:8080/"
        },
        "id": "hcal5VoMUXQg",
        "outputId": "16051237-48f7-4d36-901c-15dd99a0c821"
      },
      "execution_count": 13,
      "outputs": [
        {
          "output_type": "stream",
          "name": "stdout",
          "text": [
            "data type of arr1= float64\n",
            "data type of arr2= int32\n"
          ]
        }
      ]
    },
    {
      "cell_type": "code",
      "source": [
        "#You can explicitly convert or cast an array from one dtype to another using ndarray’s\n",
        "#astype method:\n",
        "arr = np.array([1,3,4,5])\n",
        "print(arr.dtype,'\\n')\n",
        "\n",
        "float_arr = arr.astype(np.float64)\n",
        "print(float_arr.dtype)"
      ],
      "metadata": {
        "colab": {
          "base_uri": "https://localhost:8080/"
        },
        "id": "CH3a7KzSVdf0",
        "outputId": "b84970e5-f1e9-4997-9d5f-d6ec6b221f9b"
      },
      "execution_count": 14,
      "outputs": [
        {
          "output_type": "stream",
          "name": "stdout",
          "text": [
            "int64 \n",
            "\n",
            "float64\n"
          ]
        }
      ]
    },
    {
      "cell_type": "code",
      "source": [
        "#If I cast some floating-point numbers to be of integer dtype, the decimal part will be truncated:\n",
        "arr = np.array([3.7, -1.2, -2.6, 0.5, 12.9, 10.1])\n",
        "print(arr.astype(np.int32))"
      ],
      "metadata": {
        "colab": {
          "base_uri": "https://localhost:8080/"
        },
        "id": "82y6v9cTWspE",
        "outputId": "59c1af5f-2496-4ed0-eae9-b0b4e2f37883"
      },
      "execution_count": 15,
      "outputs": [
        {
          "output_type": "stream",
          "name": "stdout",
          "text": [
            "[ 3 -1 -2  0 12 10]\n"
          ]
        }
      ]
    },
    {
      "cell_type": "code",
      "source": [
        "numeric_string = np.array(['1.23', '4.56', '5.65'])\n",
        "print(numeric_string)\n",
        "print(numeric_string.astype(np.float64))"
      ],
      "metadata": {
        "colab": {
          "base_uri": "https://localhost:8080/"
        },
        "id": "xIU8n1VkX3eV",
        "outputId": "5d7c2566-ea31-40b7-89ba-ba225bd62154"
      },
      "execution_count": 16,
      "outputs": [
        {
          "output_type": "stream",
          "name": "stdout",
          "text": [
            "['1.23' '4.56' '5.65']\n",
            "[1.23 4.56 5.65]\n"
          ]
        }
      ]
    },
    {
      "cell_type": "markdown",
      "source": [
        "# Arithmetic with NumPy Arrays"
      ],
      "metadata": {
        "id": "13qMUA8AZM9E"
      }
    },
    {
      "cell_type": "code",
      "source": [
        "arr = np.array([[1., 2., 3.], [4., 5., 6.]])\n",
        "print(arr)\n",
        "print('\\n',arr.dtype)"
      ],
      "metadata": {
        "colab": {
          "base_uri": "https://localhost:8080/"
        },
        "id": "SrCrXc-7Y8d1",
        "outputId": "f5735754-5be8-47df-d8e4-063dc96bba3a"
      },
      "execution_count": 17,
      "outputs": [
        {
          "output_type": "stream",
          "name": "stdout",
          "text": [
            "[[1. 2. 3.]\n",
            " [4. 5. 6.]]\n",
            "\n",
            " float64\n"
          ]
        }
      ]
    },
    {
      "cell_type": "markdown",
      "source": [
        "Arrays are important because they enable you to express batch operations on data\n",
        "without writing any for loops. NumPy users call this vectorization. Any arithmetic\n",
        "operations between equal-size arrays applies the operation ELEMENT-WISE:"
      ],
      "metadata": {
        "id": "HBMEzBf6ZyhS"
      }
    },
    {
      "cell_type": "code",
      "source": [
        "print(arr * arr, '\\n' )\n",
        "print(arr + arr, '\\n')\n",
        "print(1 / arr)"
      ],
      "metadata": {
        "colab": {
          "base_uri": "https://localhost:8080/"
        },
        "id": "LhoEmG50ZcWr",
        "outputId": "6e26aa9e-a5ca-4d3b-f515-4fd5b59dc05b"
      },
      "execution_count": 18,
      "outputs": [
        {
          "output_type": "stream",
          "name": "stdout",
          "text": [
            "[[ 1.  4.  9.]\n",
            " [16. 25. 36.]] \n",
            "\n",
            "[[ 2.  4.  6.]\n",
            " [ 8. 10. 12.]] \n",
            "\n",
            "[[1.         0.5        0.33333333]\n",
            " [0.25       0.2        0.16666667]]\n"
          ]
        }
      ]
    },
    {
      "cell_type": "code",
      "source": [
        "#Comparisons between arrays of the same size yield boolean arrays:\n",
        "arr2 = np.array([[0., 4., 1.], [7., 2., 12.]])\n",
        "arr2>arr"
      ],
      "metadata": {
        "colab": {
          "base_uri": "https://localhost:8080/"
        },
        "id": "o3G4L4D1aHZw",
        "outputId": "7cb41428-70c7-4020-cd66-b75587aa29a6"
      },
      "execution_count": 19,
      "outputs": [
        {
          "output_type": "execute_result",
          "data": {
            "text/plain": [
              "array([[False,  True, False],\n",
              "       [ True, False,  True]])"
            ]
          },
          "metadata": {},
          "execution_count": 19
        }
      ]
    },
    {
      "cell_type": "markdown",
      "source": [
        "# Basic Indexing and Slicing"
      ],
      "metadata": {
        "id": "_0I93k87a-gt"
      }
    },
    {
      "cell_type": "code",
      "source": [
        "arr = np.arange(10)\n",
        "print(arr)\n",
        "print(arr[5])\n",
        "print(arr[5:8])\n",
        "arr[5:8] = 12\n",
        "print(arr)\n"
      ],
      "metadata": {
        "colab": {
          "base_uri": "https://localhost:8080/"
        },
        "id": "0CWzcifVa1X3",
        "outputId": "7f06ef1d-896d-4426-e312-3748a69b738b"
      },
      "execution_count": 20,
      "outputs": [
        {
          "output_type": "stream",
          "name": "stdout",
          "text": [
            "[0 1 2 3 4 5 6 7 8 9]\n",
            "5\n",
            "[5 6 7]\n",
            "[ 0  1  2  3  4 12 12 12  8  9]\n"
          ]
        }
      ]
    },
    {
      "cell_type": "code",
      "source": [
        "arr2d = np.array([[1, 2, 3], [4, 5, 6], [7, 8, 9]])\n",
        "print(arr2d[2])\n",
        "print(arr2d[0][2])\n",
        "print(arr2d[0,2])"
      ],
      "metadata": {
        "colab": {
          "base_uri": "https://localhost:8080/"
        },
        "id": "UWlIiVKDbaEu",
        "outputId": "e4ad3078-88a8-44a2-87c4-a950008f33a1"
      },
      "execution_count": 21,
      "outputs": [
        {
          "output_type": "stream",
          "name": "stdout",
          "text": [
            "[7 8 9]\n",
            "3\n",
            "3\n"
          ]
        }
      ]
    },
    {
      "cell_type": "markdown",
      "source": [
        "#Indexing with slices"
      ],
      "metadata": {
        "id": "p57S4FJ8dYzH"
      }
    },
    {
      "cell_type": "code",
      "source": [
        "print(arr2d)\n",
        "print()\n",
        "print(arr2d[:2])"
      ],
      "metadata": {
        "colab": {
          "base_uri": "https://localhost:8080/"
        },
        "id": "kHYM623-c5Jc",
        "outputId": "3961f7d4-6cc7-4886-d78c-c62593a6c38f"
      },
      "execution_count": 22,
      "outputs": [
        {
          "output_type": "stream",
          "name": "stdout",
          "text": [
            "[[1 2 3]\n",
            " [4 5 6]\n",
            " [7 8 9]]\n",
            "\n",
            "[[1 2 3]\n",
            " [4 5 6]]\n"
          ]
        }
      ]
    },
    {
      "cell_type": "markdown",
      "source": [
        "#Transposing Arrays and Swapping Axes"
      ],
      "metadata": {
        "id": "4Sct-REdDo70"
      }
    },
    {
      "cell_type": "code",
      "source": [
        "arr = np.arange(15).reshape((3, 5))\n",
        "arr"
      ],
      "metadata": {
        "id": "1hnxAKMyde2F",
        "colab": {
          "base_uri": "https://localhost:8080/"
        },
        "outputId": "8b3931c4-8a41-4716-9dd6-755834d37bea"
      },
      "execution_count": 26,
      "outputs": [
        {
          "output_type": "execute_result",
          "data": {
            "text/plain": [
              "array([[ 0,  1,  2,  3,  4],\n",
              "       [ 5,  6,  7,  8,  9],\n",
              "       [10, 11, 12, 13, 14]])"
            ]
          },
          "metadata": {},
          "execution_count": 26
        }
      ]
    },
    {
      "cell_type": "code",
      "source": [
        "arr.T"
      ],
      "metadata": {
        "colab": {
          "base_uri": "https://localhost:8080/"
        },
        "id": "KtjHKButD3Kv",
        "outputId": "8e61ece8-f8cb-49d7-dc72-cdf3a81678a3"
      },
      "execution_count": 27,
      "outputs": [
        {
          "output_type": "execute_result",
          "data": {
            "text/plain": [
              "array([[ 0,  5, 10],\n",
              "       [ 1,  6, 11],\n",
              "       [ 2,  7, 12],\n",
              "       [ 3,  8, 13],\n",
              "       [ 4,  9, 14]])"
            ]
          },
          "metadata": {},
          "execution_count": 27
        }
      ]
    },
    {
      "cell_type": "code",
      "source": [
        "#For higher dimensional arrays, transpose will accept a tuple of axis numbers to per‐\n",
        "#mute the axes (for extra mind bending):\n",
        "arr = np.arange(16).reshape((2, 2, 4))\n",
        "arr"
      ],
      "metadata": {
        "colab": {
          "base_uri": "https://localhost:8080/"
        },
        "id": "2tZWKj_qEozQ",
        "outputId": "749be736-3cdf-4305-8d37-050f528ab49a"
      },
      "execution_count": 28,
      "outputs": [
        {
          "output_type": "execute_result",
          "data": {
            "text/plain": [
              "array([[[ 0,  1,  2,  3],\n",
              "        [ 4,  5,  6,  7]],\n",
              "\n",
              "       [[ 8,  9, 10, 11],\n",
              "        [12, 13, 14, 15]]])"
            ]
          },
          "metadata": {},
          "execution_count": 28
        }
      ]
    },
    {
      "cell_type": "code",
      "source": [
        "arr.transpose((1, 0, 2))"
      ],
      "metadata": {
        "colab": {
          "base_uri": "https://localhost:8080/"
        },
        "id": "530xvPfhFWGz",
        "outputId": "d854d16a-3cd5-4ca1-d66e-d238d65972be"
      },
      "execution_count": 29,
      "outputs": [
        {
          "output_type": "execute_result",
          "data": {
            "text/plain": [
              "array([[[ 0,  1,  2,  3],\n",
              "        [ 8,  9, 10, 11]],\n",
              "\n",
              "       [[ 4,  5,  6,  7],\n",
              "        [12, 13, 14, 15]]])"
            ]
          },
          "metadata": {},
          "execution_count": 29
        }
      ]
    }
  ]
}